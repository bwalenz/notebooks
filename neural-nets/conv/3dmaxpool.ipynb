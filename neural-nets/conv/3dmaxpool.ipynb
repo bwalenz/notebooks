{
 "cells": [
  {
   "cell_type": "markdown",
   "metadata": {},
   "source": [
    "# 3d max pooling using 2d operators"
   ]
  },
  {
   "cell_type": "markdown",
   "metadata": {},
   "source": [
    "Support for 3d pooling is spotty across convolutional neural network libraries, but it can be fairly easily implemented as a series of 2d pooling and matrix reshaping operations. In this overview I provide examples using the [Theano](http://deeplearning.net/software/theano/) python library. \n",
    "\n",
    "Here are some links if none of that really made sense:\n",
    "* [3D Convolutional Neural Networks for Human Action Recognition](www.dbs.ifi.lmu.de/~yu_k/icml2010_3dcnn.pdf)\n",
    "* [Pooling overview](http://ufldl.stanford.edu/wiki/index.php/Pooling)\n",
    "* [Convolutional Neural Networks tutorial](http://deeplearning.net/tutorial/lenet.html)\n",
    "* [Lasagne - Simple Neural Network interface](https://github.com/Lasagne/Lasagne)"
   ]
  },
  {
   "cell_type": "markdown",
   "metadata": {},
   "source": [
    "##3d max pooling overview"
   ]
  },
  {
   "cell_type": "markdown",
   "metadata": {},
   "source": [
    "Suppose we have the following 3d matrix:"
   ]
  },
  {
   "cell_type": "code",
   "execution_count": 2,
   "metadata": {
    "collapsed": false,
    "scrolled": true
   },
   "outputs": [
    {
     "data": {
      "text/plain": [
       "array([[[ 3,  8,  6,  6],\n",
       "        [ 1,  6,  4,  1],\n",
       "        [ 7,  9,  7,  9],\n",
       "        [ 5, 11,  3,  2]],\n",
       "\n",
       "       [[ 4,  5,  8,  1],\n",
       "        [ 6,  7,  4,  2],\n",
       "        [ 0,  3,  5,  9],\n",
       "        [ 9, 10, 10,  2]],\n",
       "\n",
       "       [[10,  3,  7,  4],\n",
       "        [ 2,  1,  2,  9],\n",
       "        [ 8,  8,  1,  1],\n",
       "        [ 6,  3,  0,  4]]])"
      ]
     },
     "execution_count": 2,
     "metadata": {},
     "output_type": "execute_result"
    }
   ],
   "source": [
    "import numpy\n",
    "original = numpy.array([[[3, 8, 6, 6], [1, 6, 4, 1], [7, 9, 7, 9], [5, 11, 3, 2]], [[4, 5, 8, 1], [6, 7, 4, 2], [0, 3, 5, 9], [9, 10, 10, 2]], [[10, 3, 7, 4], [2, 1, 2, 9], [8, 8, 1, 1], [6, 3, 0, 4]]])\n",
    "original"
   ]
  },
  {
   "cell_type": "code",
   "execution_count": 5,
   "metadata": {
    "collapsed": false
   },
   "outputs": [
    {
     "data": {
      "text/plain": [
       "(3, 4, 4)"
      ]
     },
     "execution_count": 5,
     "metadata": {},
     "output_type": "execute_result"
    }
   ],
   "source": [
    "original.shape"
   ]
  },
  {
   "cell_type": "markdown",
   "metadata": {},
   "source": [
    "We can think of this as 3 separate 4x4 images. In 3d max pooling, the goal is to create a new matrix by selecting maximum values from (usually non-overlapping) cubes of the original matrix. The size of the cube is called the **pool size** and the step size to the next cube is called the **stride**.  In a large number of cases, you want to set the pool size to the stride size, so there are no overlapping cubes and no gaps. In this example, the answer of a max pool 3d with a stride of (2, 2, 2) is:"
   ]
  },
  {
   "cell_type": "code",
   "execution_count": 6,
   "metadata": {
    "collapsed": false
   },
   "outputs": [
    {
     "data": {
      "text/plain": [
       "array([[[ 8,  8],\n",
       "        [11, 10]],\n",
       "\n",
       "       [[10,  9],\n",
       "        [ 8,  4]]])"
      ]
     },
     "execution_count": 6,
     "metadata": {},
     "output_type": "execute_result"
    }
   ],
   "source": [
    "a = numpy.array([[[8, 8], [11, 10]], [[10, 9], [8, 4]]])\n",
    "a"
   ]
  },
  {
   "cell_type": "code",
   "execution_count": 7,
   "metadata": {
    "collapsed": false
   },
   "outputs": [
    {
     "data": {
      "text/plain": [
       "(2, 2, 2)"
      ]
     },
     "execution_count": 7,
     "metadata": {},
     "output_type": "execute_result"
    }
   ],
   "source": [
    "a.shape"
   ]
  },
  {
   "cell_type": "markdown",
   "metadata": {},
   "source": [
    "Notice that the size of the pooled matrix is ceil(dim/2) in all dimensions: (3, 4, 4) -> (2, 2, 2). In this case we are assuming that we are padding a dimension with 0's if the columns or rows is of size 1 in any stride window. If we don't pad the dimensions, then the shape can be thought of as floor(dim/2). "
   ]
  },
  {
   "cell_type": "markdown",
   "metadata": {},
   "source": [
    "##3d max pooling using 2d operators\n",
    "\n",
    "Highly efficient, GPU-optimized versions of max pool 2d exist in most languages but max pool 3d is more tricky, so we'd like to structure our 3d max pooling only using max pool 2d. \n",
    "\n",
    "To do this, we can take advantage of the associativity and commutativity properties of the max operator, first finding the maximum values of each (X, Y) plane (image), and then finding the maximum values along the Z axis (along all images). The rough algorithm is:\n",
    "\n",
    "0. Assume matrix is of shape (Z, X, Y)\n",
    "1. Max pool 2d along (X, Y) with stride (2, 2) for each Z dimension\n",
    "2. Reshape matrix with Z as new column: (X, Y, Z)\n",
    "3. Max pool 2d along (Y, Z) but with stride (1, 2) for each X dimension\n",
    "4. Reshape to original (Z, X, Y) layout"
   ]
  },
  {
   "cell_type": "markdown",
   "metadata": {},
   "source": [
    "## Example\n",
    "\n",
    "Referring back to our original example, if we have a 3x4x4 matrix (3 images of size 4x4), we first perform a max pool 2d in the XY planes for each image. Again assume that our stride is (2, 2, 2), effectively halving the entire matrix. Theano comes with very nice operators for 2-dimensional downsampling, so we can reuse that."
   ]
  },
  {
   "cell_type": "code",
   "execution_count": 9,
   "metadata": {
    "collapsed": false
   },
   "outputs": [
    {
     "data": {
      "text/plain": [
       "array([[[ 8,  6],\n",
       "        [11,  9]],\n",
       "\n",
       "       [[ 7,  8],\n",
       "        [10, 10]],\n",
       "\n",
       "       [[10,  9],\n",
       "        [ 8,  4]]])"
      ]
     },
     "execution_count": 9,
     "metadata": {},
     "output_type": "execute_result"
    }
   ],
   "source": [
    "import theano\n",
    "from theano.tensor.signal import downsample\n",
    "\n",
    "x = theano.shared(original)\n",
    "xypool = downsample.max_pool_2d(x, (2, 2))\n",
    "xypool.eval()"
   ]
  },
  {
   "cell_type": "markdown",
   "metadata": {},
   "source": [
    "This creates a new matrix of size (Z, X/2, Y/2). Now each image has been max pooled, but we need to pool along the Z axis still. We can do this by reshaping the matrix with Z as the columns and (X, Y) as the row indices. You end up with a 3d matrix of size (2, 2, 3). I've annotated the indices below to illustrate the transformation from the previous matrix a bit better.\n",
    "\n",
    "<code>\n",
    "[x=0 [y=0 [8, 7, 10], y=1 [6, 8, 9]], \n",
    "x=1[y=0 [11, 10, 8], y=1 [9, 10, 4]]]\n",
    "</code>"
   ]
  },
  {
   "cell_type": "code",
   "execution_count": 10,
   "metadata": {
    "collapsed": false
   },
   "outputs": [
    {
     "data": {
      "text/plain": [
       "array([[[ 8,  7, 10],\n",
       "        [ 6,  8,  9]],\n",
       "\n",
       "       [[11, 10,  8],\n",
       "        [ 9, 10,  4]]])"
      ]
     },
     "execution_count": 10,
     "metadata": {},
     "output_type": "execute_result"
    }
   ],
   "source": [
    "shufl = [1, 2, 0]\n",
    "shuffled = xypool.dimshuffle(shufl)\n",
    "shuffled.eval()"
   ]
  },
  {
   "cell_type": "markdown",
   "metadata": {},
   "source": [
    "The shuffle operators moves the 0 index (Z) to the back, and shifts X and Y one over. So now (X, Y, Z) = [0, 1, 2]. This is conceptually a little tricky. A row here (X,Y) is the distinct X,Y indice values([X=0, y=0, X=1, y=0, etc]) across all Z(images), so we need to max pool across EACH combination, meaning our stride in this case is (1, 2). The implicit assumption in this example is that we pad our array with 0's to prevent dimensionality reduction. \n",
    "\n",
    "Now we just max_pool_2d again."
   ]
  },
  {
   "cell_type": "code",
   "execution_count": 11,
   "metadata": {
    "collapsed": false
   },
   "outputs": [
    {
     "data": {
      "text/plain": [
       "array([[[ 8, 10],\n",
       "        [ 8,  9]],\n",
       "\n",
       "       [[11,  8],\n",
       "        [10,  4]]])"
      ]
     },
     "execution_count": 11,
     "metadata": {},
     "output_type": "execute_result"
    }
   ],
   "source": [
    "pooled = downsample.max_pool_2d(shuffled, (1, 2))\n",
    "pooled.eval()"
   ]
  },
  {
   "cell_type": "markdown",
   "metadata": {},
   "source": [
    "This is starting to look pretty good! At least, the dimensions are proper from what we outlined earlier. But is this correct? Well, not quite. This downsampled matrix still has out of order columns (X, Y, Z), but the size is (X/2, Y/2, Z/2), so we just need to reshape again, moving Z to the front."
   ]
  },
  {
   "cell_type": "code",
   "execution_count": 12,
   "metadata": {
    "collapsed": false,
    "scrolled": true
   },
   "outputs": [
    {
     "data": {
      "text/plain": [
       "array([[[ 8,  8],\n",
       "        [11, 10]],\n",
       "\n",
       "       [[10,  9],\n",
       "        [ 8,  4]]])"
      ]
     },
     "execution_count": 12,
     "metadata": {},
     "output_type": "execute_result"
    }
   ],
   "source": [
    "shufl = [2, 0, 1]\n",
    "normal = pooled.dimshuffle(shufl)\n",
    "normal.eval()"
   ]
  },
  {
   "cell_type": "markdown",
   "metadata": {},
   "source": [
    "Voila! This is the exact result we expected."
   ]
  },
  {
   "cell_type": "markdown",
   "metadata": {},
   "source": [
    "## Complete Code\n"
   ]
  },
  {
   "cell_type": "code",
   "execution_count": 14,
   "metadata": {
    "collapsed": false
   },
   "outputs": [
    {
     "data": {
      "text/plain": [
       "array([[[ 8,  8],\n",
       "        [11, 10]],\n",
       "\n",
       "       [[10,  9],\n",
       "        [ 8,  4]]])"
      ]
     },
     "execution_count": 14,
     "metadata": {},
     "output_type": "execute_result"
    }
   ],
   "source": [
    "import numpy\n",
    "import theano\n",
    "from theano.tensor.signal import downsample\n",
    "original = numpy.array([[[3, 8, 6, 6], [1, 6, 4, 1], [7, 9, 7, 9], [5, 11, 3, 2]], [[4, 5, 8, 1], [6, 7, 4, 2], [0, 3, 5, 9], [9, 10, 10, 2]], [[10, 3, 7, 4], [2, 1, 2, 9], [8, 8, 1, 1], [6, 3, 0, 4]]])\n",
    "\n",
    "x = theano.shared(original)\n",
    "\n",
    "#Downsample across X,Y plane\n",
    "xypool = downsample.max_pool_2d(x, (2, 2))\n",
    "\n",
    "#Shuffle so Z is in the back\n",
    "shufl = [1, 2, 0]\n",
    "shuffled = xypool.dimshuffle(shufl)\n",
    "\n",
    "#Downsample across Z columns\n",
    "pooled = downsample.max_pool_2d(shuffled, (1, 2))\n",
    "\n",
    "#Reshuffle to original shape\n",
    "shufl = [2, 0, 1]\n",
    "normal = pooled.dimshuffle(shufl)\n",
    "normal.eval()\n"
   ]
  },
  {
   "cell_type": "code",
   "execution_count": null,
   "metadata": {
    "collapsed": true
   },
   "outputs": [],
   "source": []
  }
 ],
 "metadata": {
  "kernelspec": {
   "display_name": "Python 2",
   "language": "python",
   "name": "python2"
  },
  "language_info": {
   "codemirror_mode": {
    "name": "ipython",
    "version": 2
   },
   "file_extension": ".py",
   "mimetype": "text/x-python",
   "name": "python",
   "nbconvert_exporter": "python",
   "pygments_lexer": "ipython2",
   "version": "2.7.6"
  }
 },
 "nbformat": 4,
 "nbformat_minor": 0
}
